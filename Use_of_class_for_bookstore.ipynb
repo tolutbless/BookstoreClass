{
 "cells": [
  {
   "cell_type": "code",
   "execution_count": 1,
   "metadata": {},
   "outputs": [
    {
     "data": {
      "text/plain": [
       "4"
      ]
     },
     "execution_count": 1,
     "metadata": {},
     "output_type": "execute_result"
    }
   ],
   "source": [
    "book_dict = {\"The origin\":3, \"Suns\": 4, \"The beekeeper\": 2}\n",
    "book_dict[\"Suns\"]"
   ]
  },
  {
   "attachments": {},
   "cell_type": "markdown",
   "metadata": {},
   "source": [
    "Creating a book class"
   ]
  },
  {
   "cell_type": "code",
   "execution_count": 1,
   "metadata": {},
   "outputs": [
    {
     "name": "stdout",
     "output_type": "stream",
     "text": [
      "Dan\n",
      "2012\n"
     ]
    }
   ],
   "source": [
    "class Book():\n",
    "    name = \"\"\n",
    "    author = \"\"\n",
    "    copies = -1\n",
    "    genre = \"\"\n",
    "    year = -1\n",
    "\n",
    "    def __init__(self, name, author, copies, genre, year):\n",
    "        self.name = name\n",
    "        self.author = author\n",
    "        self.copies = copies\n",
    "        self.genre = genre\n",
    "        self.year = year\n",
    "    def sell_book(self):\n",
    "        if self.copies > 0:\n",
    "            self.copies = self.copies - 1\n",
    "        else:\n",
    "            print(\"out of stock\")\n",
    "            \n",
    "book = Book(\"The sun\", \"Dan\", 4, \"Drama\", 2012) #in this line,the self is book, you can continue to change the self name to whatever you want\n",
    "print(book.author)\n",
    "print(book.year)"
   ]
  },
  {
   "cell_type": "code",
   "execution_count": 3,
   "metadata": {},
   "outputs": [
    {
     "name": "stdout",
     "output_type": "stream",
     "text": [
      "Dan\n",
      "2012\n",
      "1\n"
     ]
    }
   ],
   "source": [
    "class Book():\n",
    "    name = \"\"\n",
    "    author = \"\"\n",
    "    copies = -1\n",
    "    genre = \"\"\n",
    "    year = -1\n",
    "\n",
    "    def __init__(self, name, author, copies, genre, year):\n",
    "        self.name = name\n",
    "        self.author = author\n",
    "        self.copies = copies\n",
    "        self.genre = genre\n",
    "        self.year = year\n",
    "    def sell_book(self, copies): #used to hardcode the number of book sold instead of using sellbook at every -1 quantity\n",
    "        if self.copies >= copies: \n",
    "            self.copies = self.copies - copies\n",
    "        else:\n",
    "            print(\"out of stock\")\n",
    "    \n",
    "    def return_book(self):\n",
    "        self.copies = self.copies + 1\n",
    "            \n",
    "book = Book(\"The sun\", \"Dan\", 4, \"Drama\", 2012) #in this line,the self is book, you can continue to change the self name to whatever you want\n",
    "print(book.author)\n",
    "print(book.year)\n",
    "\n",
    "book.sell_book(3)\n",
    "print(book.copies)"
   ]
  },
  {
   "cell_type": "code",
   "execution_count": null,
   "metadata": {},
   "outputs": [],
   "source": [
    "list_of_books = []\n",
    "\n",
    "book = Book(\"The sun\", \"Dan\", 4, \"Drama\", 2012)\n",
    "book2 = Book(\"Origin\", \"Christia\", 2, \"Adventure\", 2004)\n",
    "book3 = Book(\"Python\", \"Mark\", 1, \"edu\", 2005)\n",
    "\n",
    "list_of_books.append(book)\n",
    "list_of_books.append(book2)\n",
    "list_of_books.append(book3)\n"
   ]
  }
 ],
 "metadata": {
  "kernelspec": {
   "display_name": "Python 3",
   "language": "python",
   "name": "python3"
  },
  "language_info": {
   "codemirror_mode": {
    "name": "ipython",
    "version": 3
   },
   "file_extension": ".py",
   "mimetype": "text/x-python",
   "name": "python",
   "nbconvert_exporter": "python",
   "pygments_lexer": "ipython3",
   "version": "3.10.4"
  },
  "orig_nbformat": 4
 },
 "nbformat": 4,
 "nbformat_minor": 2
}
